{
  "nbformat": 4,
  "nbformat_minor": 0,
  "metadata": {
    "colab": {
      "provenance": [],
      "authorship_tag": "ABX9TyP/7FF0fubYIlG79o6HcCdJ",
      "include_colab_link": true
    },
    "kernelspec": {
      "name": "python3",
      "display_name": "Python 3"
    },
    "language_info": {
      "name": "python"
    }
  },
  "cells": [
    {
      "cell_type": "markdown",
      "metadata": {
        "id": "view-in-github",
        "colab_type": "text"
      },
      "source": [
        "<a href=\"https://colab.research.google.com/github/kartik2627/Artificial-neural-network/blob/main/rnnpractice.ipynb\" target=\"_parent\"><img src=\"https://colab.research.google.com/assets/colab-badge.svg\" alt=\"Open In Colab\"/></a>"
      ]
    },
    {
      "cell_type": "code",
      "execution_count": null,
      "metadata": {
        "id": "96-mN2c14Qop"
      },
      "outputs": [],
      "source": [
        "import numpy as np"
      ]
    },
    {
      "cell_type": "code",
      "source": [
        "docs = [\n",
        "    'hello world',\n",
        "    'world world',\n",
        "    'how are you',\n",
        "    'good morning everyone',\n",
        "    'python programming',\n",
        "    'machine learning',\n",
        "    'data science',\n",
        "    'deep learning',\n",
        "    'natural language processing',\n",
        "    'chatbot development',\n",
        "    'artificial intelligence',\n",
        "    'neural networks',\n",
        "    'big data analytics',\n",
        "    'internet of things',\n",
        "    'cloud computing',\n",
        "    'web development',\n",
        "    'mobile applications',\n",
        "    'virtual reality',\n",
        "    'augmented reality',\n",
        "    'blockchain technology',\n",
        "    'cryptocurrency',\n",
        "    'cybersecurity measures',\n",
        "    'quantum computing',\n",
        "    'bioinformatics research',\n",
        "    'genetic engineering',\n",
        "    'space exploration',\n",
        "    'robotics engineering',\n",
        "    'nanotechnology applications',\n",
        "    'sustainable energy solutions',\n",
        "    'environmental conservation efforts'\n",
        "]"
      ],
      "metadata": {
        "id": "3vtRmi1O5IlL"
      },
      "execution_count": null,
      "outputs": []
    },
    {
      "cell_type": "code",
      "source": [
        "from keras.preprocessing.text import Tokenizer\n",
        "tokenizer = Tokenizer(oov_token ='<nothing>')\n"
      ],
      "metadata": {
        "id": "ikBHJstO5dV-"
      },
      "execution_count": null,
      "outputs": []
    },
    {
      "cell_type": "code",
      "source": [
        "tokenizer.fit_on_texts(docs)"
      ],
      "metadata": {
        "id": "rs-KY_b371Pp"
      },
      "execution_count": null,
      "outputs": []
    },
    {
      "cell_type": "code",
      "source": [
        "tokenizer.word_index"
      ],
      "metadata": {
        "colab": {
          "base_uri": "https://localhost:8080/"
        },
        "id": "RiumH6u49Gmh",
        "outputId": "0cf9da8c-a479-4833-ea85-032f467dcb80"
      },
      "execution_count": null,
      "outputs": [
        {
          "output_type": "execute_result",
          "data": {
            "text/plain": [
              "{'<nothing>': 1,\n",
              " 'world': 2,\n",
              " 'learning': 3,\n",
              " 'data': 4,\n",
              " 'development': 5,\n",
              " 'computing': 6,\n",
              " 'applications': 7,\n",
              " 'reality': 8,\n",
              " 'engineering': 9,\n",
              " 'hello': 10,\n",
              " 'how': 11,\n",
              " 'are': 12,\n",
              " 'you': 13,\n",
              " 'good': 14,\n",
              " 'morning': 15,\n",
              " 'everyone': 16,\n",
              " 'python': 17,\n",
              " 'programming': 18,\n",
              " 'machine': 19,\n",
              " 'science': 20,\n",
              " 'deep': 21,\n",
              " 'natural': 22,\n",
              " 'language': 23,\n",
              " 'processing': 24,\n",
              " 'chatbot': 25,\n",
              " 'artificial': 26,\n",
              " 'intelligence': 27,\n",
              " 'neural': 28,\n",
              " 'networks': 29,\n",
              " 'big': 30,\n",
              " 'analytics': 31,\n",
              " 'internet': 32,\n",
              " 'of': 33,\n",
              " 'things': 34,\n",
              " 'cloud': 35,\n",
              " 'web': 36,\n",
              " 'mobile': 37,\n",
              " 'virtual': 38,\n",
              " 'augmented': 39,\n",
              " 'blockchain': 40,\n",
              " 'technology': 41,\n",
              " 'cryptocurrency': 42,\n",
              " 'cybersecurity': 43,\n",
              " 'measures': 44,\n",
              " 'quantum': 45,\n",
              " 'bioinformatics': 46,\n",
              " 'research': 47,\n",
              " 'genetic': 48,\n",
              " 'space': 49,\n",
              " 'exploration': 50,\n",
              " 'robotics': 51,\n",
              " 'nanotechnology': 52,\n",
              " 'sustainable': 53,\n",
              " 'energy': 54,\n",
              " 'solutions': 55,\n",
              " 'environmental': 56,\n",
              " 'conservation': 57,\n",
              " 'efforts': 58}"
            ]
          },
          "metadata": {},
          "execution_count": 14
        }
      ]
    },
    {
      "cell_type": "code",
      "source": [
        "tokenizer.word_counts"
      ],
      "metadata": {
        "colab": {
          "base_uri": "https://localhost:8080/"
        },
        "id": "Gep0Ibh69Qgl",
        "outputId": "3e51060f-c74d-41fb-e7cb-b1f4f7d2a69c"
      },
      "execution_count": null,
      "outputs": [
        {
          "output_type": "execute_result",
          "data": {
            "text/plain": [
              "OrderedDict([('hello', 1),\n",
              "             ('world', 3),\n",
              "             ('how', 1),\n",
              "             ('are', 1),\n",
              "             ('you', 1),\n",
              "             ('good', 1),\n",
              "             ('morning', 1),\n",
              "             ('everyone', 1),\n",
              "             ('python', 1),\n",
              "             ('programming', 1),\n",
              "             ('machine', 1),\n",
              "             ('learning', 2),\n",
              "             ('data', 2),\n",
              "             ('science', 1),\n",
              "             ('deep', 1),\n",
              "             ('natural', 1),\n",
              "             ('language', 1),\n",
              "             ('processing', 1),\n",
              "             ('chatbot', 1),\n",
              "             ('development', 2),\n",
              "             ('artificial', 1),\n",
              "             ('intelligence', 1),\n",
              "             ('neural', 1),\n",
              "             ('networks', 1),\n",
              "             ('big', 1),\n",
              "             ('analytics', 1),\n",
              "             ('internet', 1),\n",
              "             ('of', 1),\n",
              "             ('things', 1),\n",
              "             ('cloud', 1),\n",
              "             ('computing', 2),\n",
              "             ('web', 1),\n",
              "             ('mobile', 1),\n",
              "             ('applications', 2),\n",
              "             ('virtual', 1),\n",
              "             ('reality', 2),\n",
              "             ('augmented', 1),\n",
              "             ('blockchain', 1),\n",
              "             ('technology', 1),\n",
              "             ('cryptocurrency', 1),\n",
              "             ('cybersecurity', 1),\n",
              "             ('measures', 1),\n",
              "             ('quantum', 1),\n",
              "             ('bioinformatics', 1),\n",
              "             ('research', 1),\n",
              "             ('genetic', 1),\n",
              "             ('engineering', 2),\n",
              "             ('space', 1),\n",
              "             ('exploration', 1),\n",
              "             ('robotics', 1),\n",
              "             ('nanotechnology', 1),\n",
              "             ('sustainable', 1),\n",
              "             ('energy', 1),\n",
              "             ('solutions', 1),\n",
              "             ('environmental', 1),\n",
              "             ('conservation', 1),\n",
              "             ('efforts', 1)])"
            ]
          },
          "metadata": {},
          "execution_count": 15
        }
      ]
    },
    {
      "cell_type": "code",
      "source": [
        "tokenizer.document_count"
      ],
      "metadata": {
        "colab": {
          "base_uri": "https://localhost:8080/"
        },
        "id": "EMilYB9U9ljq",
        "outputId": "1965010e-43f7-4aef-c4ca-692164ec1b30"
      },
      "execution_count": null,
      "outputs": [
        {
          "output_type": "execute_result",
          "data": {
            "text/plain": [
              "30"
            ]
          },
          "metadata": {},
          "execution_count": 16
        }
      ]
    },
    {
      "cell_type": "code",
      "source": [
        "sequence = tokenizer.texts_to_sequences(docs)\n",
        "sequence"
      ],
      "metadata": {
        "colab": {
          "base_uri": "https://localhost:8080/"
        },
        "id": "pMFQ8vdF9wid",
        "outputId": "02977f96-2007-4b97-aa85-822c72b5845e"
      },
      "execution_count": null,
      "outputs": [
        {
          "output_type": "execute_result",
          "data": {
            "text/plain": [
              "[[10, 2],\n",
              " [2, 2],\n",
              " [11, 12, 13],\n",
              " [14, 15, 16],\n",
              " [17, 18],\n",
              " [19, 3],\n",
              " [4, 20],\n",
              " [21, 3],\n",
              " [22, 23, 24],\n",
              " [25, 5],\n",
              " [26, 27],\n",
              " [28, 29],\n",
              " [30, 4, 31],\n",
              " [32, 33, 34],\n",
              " [35, 6],\n",
              " [36, 5],\n",
              " [37, 7],\n",
              " [38, 8],\n",
              " [39, 8],\n",
              " [40, 41],\n",
              " [42],\n",
              " [43, 44],\n",
              " [45, 6],\n",
              " [46, 47],\n",
              " [48, 9],\n",
              " [49, 50],\n",
              " [51, 9],\n",
              " [52, 7],\n",
              " [53, 54, 55],\n",
              " [56, 57, 58]]"
            ]
          },
          "metadata": {},
          "execution_count": 17
        }
      ]
    },
    {
      "cell_type": "code",
      "source": [
        "from keras.utils  import pad_sequences"
      ],
      "metadata": {
        "id": "bsmY6LwK-HLp"
      },
      "execution_count": null,
      "outputs": []
    },
    {
      "cell_type": "code",
      "source": [
        "sequences = pad_sequences(sequence,padding='post')"
      ],
      "metadata": {
        "id": "AUiJcf8o_JQa"
      },
      "execution_count": null,
      "outputs": []
    },
    {
      "cell_type": "code",
      "source": [
        "sequences"
      ],
      "metadata": {
        "colab": {
          "base_uri": "https://localhost:8080/"
        },
        "id": "3auRfW9N_UIN",
        "outputId": "0349d869-7749-4932-c8d0-69ce0009edd3"
      },
      "execution_count": null,
      "outputs": [
        {
          "output_type": "execute_result",
          "data": {
            "text/plain": [
              "array([[10,  2,  0],\n",
              "       [ 2,  2,  0],\n",
              "       [11, 12, 13],\n",
              "       [14, 15, 16],\n",
              "       [17, 18,  0],\n",
              "       [19,  3,  0],\n",
              "       [ 4, 20,  0],\n",
              "       [21,  3,  0],\n",
              "       [22, 23, 24],\n",
              "       [25,  5,  0],\n",
              "       [26, 27,  0],\n",
              "       [28, 29,  0],\n",
              "       [30,  4, 31],\n",
              "       [32, 33, 34],\n",
              "       [35,  6,  0],\n",
              "       [36,  5,  0],\n",
              "       [37,  7,  0],\n",
              "       [38,  8,  0],\n",
              "       [39,  8,  0],\n",
              "       [40, 41,  0],\n",
              "       [42,  0,  0],\n",
              "       [43, 44,  0],\n",
              "       [45,  6,  0],\n",
              "       [46, 47,  0],\n",
              "       [48,  9,  0],\n",
              "       [49, 50,  0],\n",
              "       [51,  9,  0],\n",
              "       [52,  7,  0],\n",
              "       [53, 54, 55],\n",
              "       [56, 57, 58]], dtype=int32)"
            ]
          },
          "metadata": {},
          "execution_count": 20
        }
      ]
    },
    {
      "cell_type": "code",
      "source": [
        "from keras.datasets import imdb\n",
        "from keras import Sequential\n",
        "from keras.layers import Dense,SimpleRNN,Embedding,Flatten"
      ],
      "metadata": {
        "id": "R3MABReg_WRU"
      },
      "execution_count": null,
      "outputs": []
    },
    {
      "cell_type": "code",
      "source": [
        "(X_train,y_train),(X_test,y_test) = imdb.load_data()"
      ],
      "metadata": {
        "colab": {
          "base_uri": "https://localhost:8080/"
        },
        "id": "LvKWNKEXAigr",
        "outputId": "715b5430-06c5-43c0-d80e-7b15229b930d"
      },
      "execution_count": null,
      "outputs": [
        {
          "output_type": "stream",
          "name": "stdout",
          "text": [
            "Downloading data from https://storage.googleapis.com/tensorflow/tf-keras-datasets/imdb.npz\n",
            "17464789/17464789 [==============================] - 0s 0us/step\n"
          ]
        }
      ]
    },
    {
      "cell_type": "code",
      "source": [
        "X_train"
      ],
      "metadata": {
        "colab": {
          "base_uri": "https://localhost:8080/"
        },
        "id": "EIcDFpmoAlQB",
        "outputId": "dddb2bfe-79f8-4d03-8082-ea721f357d5b"
      },
      "execution_count": null,
      "outputs": [
        {
          "output_type": "execute_result",
          "data": {
            "text/plain": [
              "array([list([1, 14, 22, 16, 43, 530, 973, 1622, 1385, 65, 458, 4468, 66, 3941, 4, 173, 36, 256, 5, 25, 100, 43, 838, 112, 50, 670, 22665, 9, 35, 480, 284, 5, 150, 4, 172, 112, 167, 21631, 336, 385, 39, 4, 172, 4536, 1111, 17, 546, 38, 13, 447, 4, 192, 50, 16, 6, 147, 2025, 19, 14, 22, 4, 1920, 4613, 469, 4, 22, 71, 87, 12, 16, 43, 530, 38, 76, 15, 13, 1247, 4, 22, 17, 515, 17, 12, 16, 626, 18, 19193, 5, 62, 386, 12, 8, 316, 8, 106, 5, 4, 2223, 5244, 16, 480, 66, 3785, 33, 4, 130, 12, 16, 38, 619, 5, 25, 124, 51, 36, 135, 48, 25, 1415, 33, 6, 22, 12, 215, 28, 77, 52, 5, 14, 407, 16, 82, 10311, 8, 4, 107, 117, 5952, 15, 256, 4, 31050, 7, 3766, 5, 723, 36, 71, 43, 530, 476, 26, 400, 317, 46, 7, 4, 12118, 1029, 13, 104, 88, 4, 381, 15, 297, 98, 32, 2071, 56, 26, 141, 6, 194, 7486, 18, 4, 226, 22, 21, 134, 476, 26, 480, 5, 144, 30, 5535, 18, 51, 36, 28, 224, 92, 25, 104, 4, 226, 65, 16, 38, 1334, 88, 12, 16, 283, 5, 16, 4472, 113, 103, 32, 15, 16, 5345, 19, 178, 32]),\n",
              "       list([1, 194, 1153, 194, 8255, 78, 228, 5, 6, 1463, 4369, 5012, 134, 26, 4, 715, 8, 118, 1634, 14, 394, 20, 13, 119, 954, 189, 102, 5, 207, 110, 3103, 21, 14, 69, 188, 8, 30, 23, 7, 4, 249, 126, 93, 4, 114, 9, 2300, 1523, 5, 647, 4, 116, 9, 35, 8163, 4, 229, 9, 340, 1322, 4, 118, 9, 4, 130, 4901, 19, 4, 1002, 5, 89, 29, 952, 46, 37, 4, 455, 9, 45, 43, 38, 1543, 1905, 398, 4, 1649, 26, 6853, 5, 163, 11, 3215, 10156, 4, 1153, 9, 194, 775, 7, 8255, 11596, 349, 2637, 148, 605, 15358, 8003, 15, 123, 125, 68, 23141, 6853, 15, 349, 165, 4362, 98, 5, 4, 228, 9, 43, 36893, 1157, 15, 299, 120, 5, 120, 174, 11, 220, 175, 136, 50, 9, 4373, 228, 8255, 5, 25249, 656, 245, 2350, 5, 4, 9837, 131, 152, 491, 18, 46151, 32, 7464, 1212, 14, 9, 6, 371, 78, 22, 625, 64, 1382, 9, 8, 168, 145, 23, 4, 1690, 15, 16, 4, 1355, 5, 28, 6, 52, 154, 462, 33, 89, 78, 285, 16, 145, 95]),\n",
              "       list([1, 14, 47, 8, 30, 31, 7, 4, 249, 108, 7, 4, 5974, 54, 61, 369, 13, 71, 149, 14, 22, 112, 4, 2401, 311, 12, 16, 3711, 33, 75, 43, 1829, 296, 4, 86, 320, 35, 534, 19, 263, 4821, 1301, 4, 1873, 33, 89, 78, 12, 66, 16, 4, 360, 7, 4, 58, 316, 334, 11, 4, 1716, 43, 645, 662, 8, 257, 85, 1200, 42, 1228, 2578, 83, 68, 3912, 15, 36, 165, 1539, 278, 36, 69, 44076, 780, 8, 106, 14, 6905, 1338, 18, 6, 22, 12, 215, 28, 610, 40, 6, 87, 326, 23, 2300, 21, 23, 22, 12, 272, 40, 57, 31, 11, 4, 22, 47, 6, 2307, 51, 9, 170, 23, 595, 116, 595, 1352, 13, 191, 79, 638, 89, 51428, 14, 9, 8, 106, 607, 624, 35, 534, 6, 227, 7, 129, 113]),\n",
              "       ...,\n",
              "       list([1, 11, 6, 230, 245, 6401, 9, 6, 1225, 446, 86527, 45, 2174, 84, 8322, 4007, 21, 4, 912, 84, 14532, 325, 725, 134, 15271, 1715, 84, 5, 36, 28, 57, 1099, 21, 8, 140, 8, 703, 5, 11656, 84, 56, 18, 1644, 14, 9, 31, 7, 4, 9406, 1209, 2295, 26094, 1008, 18, 6, 20, 207, 110, 563, 12, 8, 2901, 17793, 8, 97, 6, 20, 53, 4767, 74, 4, 460, 364, 1273, 29, 270, 11, 960, 108, 45, 40, 29, 2961, 395, 11, 6, 4065, 500, 7, 14492, 89, 364, 70, 29, 140, 4, 64, 4780, 11, 4, 2678, 26, 178, 4, 529, 443, 17793, 5, 27, 710, 117, 74936, 8123, 165, 47, 84, 37, 131, 818, 14, 595, 10, 10, 61, 1242, 1209, 10, 10, 288, 2260, 1702, 34, 2901, 17793, 4, 65, 496, 4, 231, 7, 790, 5, 6, 320, 234, 2766, 234, 1119, 1574, 7, 496, 4, 139, 929, 2901, 17793, 7750, 5, 4241, 18, 4, 8497, 13164, 250, 11, 1818, 7561, 4, 4217, 5408, 747, 1115, 372, 1890, 1006, 541, 9303, 7, 4, 59, 11027, 4, 3586, 22459]),\n",
              "       list([1, 1446, 7079, 69, 72, 3305, 13, 610, 930, 8, 12, 582, 23, 5, 16, 484, 685, 54, 349, 11, 4120, 2959, 45, 58, 1466, 13, 197, 12, 16, 43, 23, 21469, 5, 62, 30, 145, 402, 11, 4131, 51, 575, 32, 61, 369, 71, 66, 770, 12, 1054, 75, 100, 2198, 8, 4, 105, 37, 69, 147, 712, 75, 3543, 44, 257, 390, 5, 69, 263, 514, 105, 50, 286, 1814, 23, 4, 123, 13, 161, 40, 5, 421, 4, 116, 16, 897, 13, 40691, 40, 319, 5872, 112, 6700, 11, 4803, 121, 25, 70, 3468, 4, 719, 3798, 13, 18, 31, 62, 40, 8, 7200, 4, 29455, 7, 14, 123, 5, 942, 25, 8, 721, 12, 145, 5, 202, 12, 160, 580, 202, 12, 6, 52, 58, 11418, 92, 401, 728, 12, 39, 14, 251, 8, 15, 251, 5, 21213, 12, 38, 84, 80, 124, 12, 9, 23]),\n",
              "       list([1, 17, 6, 194, 337, 7, 4, 204, 22, 45, 254, 8, 106, 14, 123, 4, 12815, 270, 14437, 5, 16923, 12255, 732, 2098, 101, 405, 39, 14, 1034, 4, 1310, 9, 115, 50, 305, 12, 47, 4, 168, 5, 235, 7, 38, 111, 699, 102, 7, 4, 4039, 9245, 9, 24, 6, 78, 1099, 17, 2345, 16553, 21, 27, 9685, 6139, 5, 29043, 1603, 92, 1183, 4, 1310, 7, 4, 204, 42, 97, 90, 35, 221, 109, 29, 127, 27, 118, 8, 97, 12, 157, 21, 6789, 85010, 9, 6, 66, 78, 1099, 4, 631, 1191, 5, 2642, 272, 191, 1070, 6, 7585, 8, 2197, 70907, 10755, 544, 5, 383, 1271, 848, 1468, 12183, 497, 16876, 8, 1597, 8778, 19280, 21, 60, 27, 239, 9, 43, 8368, 209, 405, 10, 10, 12, 764, 40, 4, 248, 20, 12, 16, 5, 174, 1791, 72, 7, 51, 6, 1739, 22, 4, 204, 131, 9])],\n",
              "      dtype=object)"
            ]
          },
          "metadata": {},
          "execution_count": 23
        }
      ]
    },
    {
      "cell_type": "code",
      "source": [
        "X_test.shape"
      ],
      "metadata": {
        "colab": {
          "base_uri": "https://localhost:8080/"
        },
        "id": "OieymktjAnd4",
        "outputId": "e2a8616c-d0c5-4015-f79b-11f0ad090304"
      },
      "execution_count": null,
      "outputs": [
        {
          "output_type": "execute_result",
          "data": {
            "text/plain": [
              "(25000,)"
            ]
          },
          "metadata": {},
          "execution_count": 25
        }
      ]
    },
    {
      "cell_type": "code",
      "source": [
        "X_train.shape"
      ],
      "metadata": {
        "colab": {
          "base_uri": "https://localhost:8080/"
        },
        "id": "AdSAMs4_BHX0",
        "outputId": "b05e59a1-e23a-4abc-cc03-62cea9a847ad"
      },
      "execution_count": null,
      "outputs": [
        {
          "output_type": "execute_result",
          "data": {
            "text/plain": [
              "(25000,)"
            ]
          },
          "metadata": {},
          "execution_count": 26
        }
      ]
    },
    {
      "cell_type": "code",
      "source": [
        "X_train = pad_sequences(X_train,padding='post',maxlen=50)\n",
        "X_test = pad_sequences(X_test,padding='post',maxlen=50)\n"
      ],
      "metadata": {
        "id": "WzttiN6YBN5Z"
      },
      "execution_count": null,
      "outputs": []
    },
    {
      "cell_type": "code",
      "source": [
        "model = Sequential()\n",
        "\n",
        "model.add(SimpleRNN(32,input_shape=(50,1),return_sequences=False))\n",
        "model.add(Dense(1,activation='sigmoid'))\n",
        "\n",
        "model.summary()"
      ],
      "metadata": {
        "colab": {
          "base_uri": "https://localhost:8080/"
        },
        "id": "K7el4mpKCUJQ",
        "outputId": "8bbc00d4-7551-4a3d-ae69-b5d3cf4d310d"
      },
      "execution_count": null,
      "outputs": [
        {
          "output_type": "stream",
          "name": "stdout",
          "text": [
            "Model: \"sequential\"\n",
            "_________________________________________________________________\n",
            " Layer (type)                Output Shape              Param #   \n",
            "=================================================================\n",
            " simple_rnn (SimpleRNN)      (None, 32)                1088      \n",
            "                                                                 \n",
            " dense (Dense)               (None, 1)                 33        \n",
            "                                                                 \n",
            "=================================================================\n",
            "Total params: 1121 (4.38 KB)\n",
            "Trainable params: 1121 (4.38 KB)\n",
            "Non-trainable params: 0 (0.00 Byte)\n",
            "_________________________________________________________________\n"
          ]
        }
      ]
    },
    {
      "cell_type": "code",
      "source": [
        "model.compile(loss='binary_crossentropy',optimizer='adam',metrics=['accuracy'])\n",
        "\n",
        "model.fit(X_train,y_train,epochs=50,validation_data=(X_test,y_test))"
      ],
      "metadata": {
        "colab": {
          "base_uri": "https://localhost:8080/"
        },
        "id": "yi7IsOP0DvSF",
        "outputId": "68ef5b89-9f62-4a91-96f9-6308b9ad4774"
      },
      "execution_count": null,
      "outputs": [
        {
          "output_type": "stream",
          "name": "stdout",
          "text": [
            "Epoch 1/50\n",
            "782/782 [==============================] - 11s 12ms/step - loss: 0.6932 - accuracy: 0.5008 - val_loss: 0.6943 - val_accuracy: 0.5080\n",
            "Epoch 2/50\n",
            "782/782 [==============================] - 9s 11ms/step - loss: 0.6928 - accuracy: 0.5058 - val_loss: 0.6943 - val_accuracy: 0.5055\n",
            "Epoch 3/50\n",
            "782/782 [==============================] - 8s 10ms/step - loss: 0.6928 - accuracy: 0.5054 - val_loss: 0.6941 - val_accuracy: 0.5062\n",
            "Epoch 4/50\n",
            "782/782 [==============================] - 8s 10ms/step - loss: 0.6928 - accuracy: 0.5121 - val_loss: 0.6944 - val_accuracy: 0.5035\n",
            "Epoch 5/50\n",
            "782/782 [==============================] - 9s 11ms/step - loss: 0.6931 - accuracy: 0.5084 - val_loss: 0.6940 - val_accuracy: 0.5076\n",
            "Epoch 6/50\n",
            "782/782 [==============================] - 8s 10ms/step - loss: 0.6926 - accuracy: 0.5090 - val_loss: 0.6941 - val_accuracy: 0.5048\n",
            "Epoch 7/50\n",
            "782/782 [==============================] - 9s 12ms/step - loss: 0.6926 - accuracy: 0.5100 - val_loss: 0.6940 - val_accuracy: 0.5039\n",
            "Epoch 8/50\n",
            "782/782 [==============================] - 10s 12ms/step - loss: 0.6929 - accuracy: 0.5054 - val_loss: 0.6952 - val_accuracy: 0.5021\n",
            "Epoch 9/50\n",
            "782/782 [==============================] - 8s 11ms/step - loss: 0.6927 - accuracy: 0.5038 - val_loss: 0.6932 - val_accuracy: 0.5082\n",
            "Epoch 10/50\n",
            "782/782 [==============================] - 8s 10ms/step - loss: 0.6924 - accuracy: 0.5107 - val_loss: 0.6935 - val_accuracy: 0.5059\n",
            "Epoch 11/50\n",
            "782/782 [==============================] - 9s 11ms/step - loss: 0.6926 - accuracy: 0.5044 - val_loss: 0.6939 - val_accuracy: 0.5033\n",
            "Epoch 12/50\n",
            "782/782 [==============================] - 8s 11ms/step - loss: 0.6924 - accuracy: 0.5084 - val_loss: 0.6940 - val_accuracy: 0.5064\n",
            "Epoch 13/50\n",
            "782/782 [==============================] - 8s 10ms/step - loss: 0.6926 - accuracy: 0.5036 - val_loss: 0.6942 - val_accuracy: 0.5074\n",
            "Epoch 14/50\n",
            "782/782 [==============================] - 9s 11ms/step - loss: 0.6922 - accuracy: 0.5078 - val_loss: 0.6941 - val_accuracy: 0.5053\n",
            "Epoch 15/50\n",
            "782/782 [==============================] - 8s 11ms/step - loss: 0.6921 - accuracy: 0.5101 - val_loss: 0.6940 - val_accuracy: 0.5070\n",
            "Epoch 16/50\n",
            "782/782 [==============================] - 8s 10ms/step - loss: 0.6926 - accuracy: 0.5096 - val_loss: 0.6940 - val_accuracy: 0.5066\n",
            "Epoch 17/50\n",
            "782/782 [==============================] - 10s 13ms/step - loss: 0.6924 - accuracy: 0.5099 - val_loss: 0.6936 - val_accuracy: 0.5051\n",
            "Epoch 18/50\n",
            "782/782 [==============================] - 8s 11ms/step - loss: 0.6922 - accuracy: 0.5076 - val_loss: 0.6940 - val_accuracy: 0.5024\n",
            "Epoch 19/50\n",
            "782/782 [==============================] - 8s 10ms/step - loss: 0.6923 - accuracy: 0.5064 - val_loss: 0.6937 - val_accuracy: 0.5078\n",
            "Epoch 20/50\n",
            "782/782 [==============================] - 9s 11ms/step - loss: 0.6924 - accuracy: 0.5075 - val_loss: 0.6946 - val_accuracy: 0.5023\n",
            "Epoch 21/50\n",
            "782/782 [==============================] - 9s 11ms/step - loss: 0.6922 - accuracy: 0.5084 - val_loss: 0.6935 - val_accuracy: 0.5054\n",
            "Epoch 22/50\n",
            "782/782 [==============================] - 8s 10ms/step - loss: 0.6922 - accuracy: 0.5046 - val_loss: 0.6932 - val_accuracy: 0.5032\n",
            "Epoch 23/50\n",
            "782/782 [==============================] - 9s 11ms/step - loss: 0.6923 - accuracy: 0.5065 - val_loss: 0.6945 - val_accuracy: 0.5028\n",
            "Epoch 24/50\n",
            "782/782 [==============================] - 8s 11ms/step - loss: 0.6918 - accuracy: 0.5093 - val_loss: 0.6930 - val_accuracy: 0.5066\n",
            "Epoch 25/50\n",
            "782/782 [==============================] - 8s 10ms/step - loss: 0.6922 - accuracy: 0.5096 - val_loss: 0.6933 - val_accuracy: 0.5069\n",
            "Epoch 26/50\n",
            "782/782 [==============================] - 9s 11ms/step - loss: 0.6921 - accuracy: 0.5064 - val_loss: 0.6934 - val_accuracy: 0.5052\n",
            "Epoch 27/50\n",
            "782/782 [==============================] - 8s 11ms/step - loss: 0.6918 - accuracy: 0.5150 - val_loss: 0.6955 - val_accuracy: 0.5069\n",
            "Epoch 28/50\n",
            "782/782 [==============================] - 8s 10ms/step - loss: 0.6924 - accuracy: 0.5056 - val_loss: 0.6932 - val_accuracy: 0.5056\n",
            "Epoch 29/50\n",
            "782/782 [==============================] - 9s 11ms/step - loss: 0.6920 - accuracy: 0.5085 - val_loss: 0.6938 - val_accuracy: 0.5042\n",
            "Epoch 30/50\n",
            "782/782 [==============================] - 9s 11ms/step - loss: 0.6918 - accuracy: 0.5083 - val_loss: 0.6932 - val_accuracy: 0.5077\n",
            "Epoch 31/50\n",
            "782/782 [==============================] - 8s 10ms/step - loss: 0.6921 - accuracy: 0.5057 - val_loss: 0.6935 - val_accuracy: 0.5014\n",
            "Epoch 32/50\n",
            "782/782 [==============================] - 9s 11ms/step - loss: 0.6919 - accuracy: 0.5081 - val_loss: 0.6938 - val_accuracy: 0.5050\n",
            "Epoch 33/50\n",
            "782/782 [==============================] - 8s 11ms/step - loss: 0.6919 - accuracy: 0.5080 - val_loss: 0.6960 - val_accuracy: 0.5083\n",
            "Epoch 34/50\n",
            "782/782 [==============================] - 8s 10ms/step - loss: 0.6918 - accuracy: 0.5063 - val_loss: 0.6955 - val_accuracy: 0.5071\n",
            "Epoch 35/50\n",
            "782/782 [==============================] - 9s 11ms/step - loss: 0.6920 - accuracy: 0.5078 - val_loss: 0.6938 - val_accuracy: 0.5072\n",
            "Epoch 36/50\n",
            "782/782 [==============================] - 9s 11ms/step - loss: 0.6923 - accuracy: 0.5088 - val_loss: 0.6939 - val_accuracy: 0.5054\n",
            "Epoch 37/50\n",
            "782/782 [==============================] - 8s 10ms/step - loss: 0.6922 - accuracy: 0.5090 - val_loss: 0.6958 - val_accuracy: 0.5075\n",
            "Epoch 38/50\n",
            "782/782 [==============================] - 9s 11ms/step - loss: 0.6922 - accuracy: 0.5053 - val_loss: 0.6937 - val_accuracy: 0.5083\n",
            "Epoch 39/50\n",
            "782/782 [==============================] - 9s 11ms/step - loss: 0.6917 - accuracy: 0.5129 - val_loss: 0.6959 - val_accuracy: 0.5034\n",
            "Epoch 40/50\n",
            "782/782 [==============================] - 8s 10ms/step - loss: 0.6919 - accuracy: 0.5106 - val_loss: 0.6942 - val_accuracy: 0.5071\n",
            "Epoch 41/50\n",
            "782/782 [==============================] - 9s 11ms/step - loss: 0.6917 - accuracy: 0.5107 - val_loss: 0.6946 - val_accuracy: 0.5070\n",
            "Epoch 42/50\n",
            "782/782 [==============================] - 9s 11ms/step - loss: 0.6919 - accuracy: 0.5076 - val_loss: 0.6958 - val_accuracy: 0.5074\n",
            "Epoch 43/50\n",
            "782/782 [==============================] - 8s 10ms/step - loss: 0.6916 - accuracy: 0.5151 - val_loss: 0.6944 - val_accuracy: 0.5038\n",
            "Epoch 44/50\n",
            "782/782 [==============================] - 9s 12ms/step - loss: 0.6917 - accuracy: 0.5126 - val_loss: 0.6939 - val_accuracy: 0.5081\n",
            "Epoch 45/50\n",
            "782/782 [==============================] - 9s 12ms/step - loss: 0.6917 - accuracy: 0.5076 - val_loss: 0.6940 - val_accuracy: 0.5011\n",
            "Epoch 46/50\n",
            "782/782 [==============================] - 9s 11ms/step - loss: 0.6915 - accuracy: 0.5091 - val_loss: 0.6942 - val_accuracy: 0.5089\n",
            "Epoch 47/50\n",
            "782/782 [==============================] - 8s 11ms/step - loss: 0.6916 - accuracy: 0.5098 - val_loss: 0.6940 - val_accuracy: 0.5072\n",
            "Epoch 48/50\n",
            "782/782 [==============================] - 9s 12ms/step - loss: 0.6918 - accuracy: 0.5082 - val_loss: 0.6937 - val_accuracy: 0.5060\n",
            "Epoch 49/50\n",
            "782/782 [==============================] - 9s 11ms/step - loss: 0.6916 - accuracy: 0.5055 - val_loss: 0.6939 - val_accuracy: 0.5063\n",
            "Epoch 50/50\n",
            "782/782 [==============================] - 9s 11ms/step - loss: 0.6917 - accuracy: 0.5102 - val_loss: 0.6933 - val_accuracy: 0.5059\n"
          ]
        },
        {
          "output_type": "execute_result",
          "data": {
            "text/plain": [
              "<keras.src.callbacks.History at 0x7845c5683280>"
            ]
          },
          "metadata": {},
          "execution_count": 30
        }
      ]
    },
    {
      "cell_type": "code",
      "source": [],
      "metadata": {
        "id": "5J55Oa2bD0iA"
      },
      "execution_count": null,
      "outputs": []
    }
  ]
}